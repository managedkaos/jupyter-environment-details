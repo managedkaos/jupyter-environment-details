{
 "cells": [
  {
   "cell_type": "markdown",
   "metadata": {},
   "source": [
    "# SageMaker Demo\n",
    "This notebook is intended to be used with a [SageMaker notebook instance](https://docs.aws.amazon.com/sagemaker/latest/dg/nbi.html) launched using the following [CloudFormation](https://docs.aws.amazon.com/cloudformation/) template:\n",
    "\n",
    "- [sagemaker-notebook-cloudformation.yml](https://github.com/managedkaos/jupyter-environment-details/blob/main/sagemaker-notebook-cloudformation.yml)\n",
    "\n",
    "Together the CloudFormation template and this notebook demonstrate:\n",
    "\n",
    "- Attaching an IAM role to a SageMaker instance with policies that allow the instance to use other AWS services\n",
    "- Using the [Boto3 Python library](https://boto3.amazonaws.com/v1/documentation/api/latest/index.html) to create clients for accessing AWS services\n",
    "- Using boto3 clients to read from [Parameter Store](https://docs.aws.amazon.com/systems-manager/latest/userguide/systems-manager-parameter-store.html) and write to an [S3 bucket](https://docs.aws.amazon.com/AmazonS3/latest/userguide/Welcome.html)\n",
    "\n"
   ]
  },
  {
   "cell_type": "markdown",
   "metadata": {},
   "source": [
    "## THERE IS ONE PLACE WHERE THE NOTEBOOK NEEDS TO BE UPDATED TO WORK CORRECTLY\n",
    "\n",
    "_In cell #3, update the value for `NotebookInstanceName` with the value you used in CloudFormation._"
   ]
  },
  {
   "cell_type": "markdown",
   "metadata": {},
   "source": [
    "## Install the Boto3 library and initialize clients for S3 and SSM"
   ]
  },
  {
   "cell_type": "code",
   "execution_count": null,
   "metadata": {
    "tags": []
   },
   "outputs": [],
   "source": [
    "%pip install --quiet boto3"
   ]
  },
  {
   "cell_type": "code",
   "execution_count": null,
   "metadata": {},
   "outputs": [],
   "source": [
    "import boto3\n",
    "s3_client = boto3.client('s3')\n",
    "ssm_client = boto3.client('ssm')"
   ]
  },
  {
   "cell_type": "markdown",
   "metadata": {},
   "source": [
    "## Update the code to use the parameter value for `NotebookInstanceName`"
   ]
  },
  {
   "cell_type": "code",
   "execution_count": null,
   "metadata": {},
   "outputs": [],
   "source": [
    "# Replace with your value for NotebookInstanceName\n",
    "NotebookInstanceName = \"sagemaker-demo-202403112200\""
   ]
  },
  {
   "cell_type": "markdown",
   "metadata": {},
   "source": [
    "## Create helper functions\n",
    "- read_from_parameter_store(name)\n",
    "- write_to_s3(bucket, key, content)"
   ]
  },
  {
   "cell_type": "code",
   "execution_count": null,
   "metadata": {
    "tags": []
   },
   "outputs": [],
   "source": [
    "# Read value from Parameter Store\n",
    "def read_from_parameter_store(name):\n",
    "    response = ssm_client.get_parameter(Name=name, WithDecryption=True)\n",
    "    return response['Parameter']['Value']\n",
    "\n",
    "# Write data to the S3 bucket\n",
    "def write_to_s3(bucket, key, body):\n",
    "    s3_client.put_object(Bucket=bucket, Key=key, Body=body)\n",
    "    print(f\"Successfully wrote data to s3://{bucket}/{key}\")\n"
   ]
  },
  {
   "cell_type": "markdown",
   "metadata": {},
   "source": [
    "## Read from SSM ParameterStore "
   ]
  },
  {
   "cell_type": "code",
   "execution_count": null,
   "metadata": {
    "tags": []
   },
   "outputs": [],
   "source": [
    "# Constructed Parameter Names\n",
    "s3_bucket_name_parameter = f\"/{NotebookInstanceName}/S3Bucket\"\n",
    "\n",
    "# Get the S3 bucket name from Parameter Store\n",
    "bucket_name = read_from_parameter_store(s3_bucket_name_parameter)\n",
    "print(f\"S3 Bucket Name from ParameterStore: {bucket_name}\")"
   ]
  },
  {
   "cell_type": "markdown",
   "metadata": {
    "tags": []
   },
   "source": [
    "## Create `index.html` in the S3 bucket"
   ]
  },
  {
   "cell_type": "code",
   "execution_count": null,
   "metadata": {},
   "outputs": [],
   "source": [
    "# Define the object key and file content\n",
    "write_to_s3(bucket_name, \"index.html\", f\"<h1>Welcome to data store for {NotebookInstanceName}</h1>\")"
   ]
  },
  {
   "cell_type": "markdown",
   "metadata": {
    "tags": []
   },
   "source": [
    "## Write another file to the bucket"
   ]
  },
  {
   "cell_type": "code",
   "execution_count": null,
   "metadata": {
    "tags": []
   },
   "outputs": [],
   "source": [
    "write_to_s3(bucket_name, \"data.txt\", \"sample data goes here\")"
   ]
  }
 ],
 "metadata": {
  "colab": {
   "authorship_tag": "ABX9TyPtZFtImanTt3no3VZVCx1B",
   "provenance": []
  },
  "kernelspec": {
   "display_name": "conda_python3",
   "language": "python",
   "name": "conda_python3"
  },
  "language_info": {
   "codemirror_mode": {
    "name": "ipython",
    "version": 3
   },
   "file_extension": ".py",
   "mimetype": "text/x-python",
   "name": "python",
   "nbconvert_exporter": "python",
   "pygments_lexer": "ipython3",
   "version": "3.10.13"
  }
 },
 "nbformat": 4,
 "nbformat_minor": 4
}
