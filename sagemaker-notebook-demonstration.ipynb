{
 "cells": [
  {
   "cell_type": "markdown",
   "metadata": {},
   "source": [
    "# SageMaker Demo\n",
    "This notebook is intended to be used with a [SageMaker notebook instance](https://docs.aws.amazon.com/sagemaker/latest/dg/nbi.html) launched using the following [CloudFormation](https://docs.aws.amazon.com/cloudformation/) template:\n",
    "\n",
    "- [sagemaker-notebook-cloudformation.yml](https://github.com/managedkaos/jupyter-environment-details/blob/main/sagemaker-notebook-cloudformation.yml)\n",
    "\n",
    "Together the CloudFormation template and this notebook demonstrate:\n",
    "\n",
    "- Attaching an IAM role to a SageMaker instance with policies that allow the instance to use other AWS services\n",
    "- Using the [Boto3 Python library](https://boto3.amazonaws.com/v1/documentation/api/latest/index.html) to create clients for accessing AWS services\n",
    "- Using boto3 clients to read from [Parameter Store](https://docs.aws.amazon.com/systems-manager/latest/userguide/systems-manager-parameter-store.html) and write to an [S3 bucket](https://docs.aws.amazon.com/AmazonS3/latest/userguide/Welcome.html)\n",
    "\n"
   ]
  },
  {
   "cell_type": "markdown",
   "metadata": {},
   "source": [
    "## UPDATE THE FOLLOWING VALUES FOR THE NOTEBOOK TO WORK CORRECTLY"
   ]
  },
  {
   "cell_type": "code",
   "execution_count": null,
   "metadata": {
    "tags": []
   },
   "outputs": [],
   "source": [
    "# Replace with your value for NotebookInstanceName\n",
    "NotebookInstanceName = \"sagemaker-demo-202403112200\"\n",
    "\n",
    "# Replace with your region\n",
    "region = \"us-west-2\""
   ]
  },
  {
   "cell_type": "markdown",
   "metadata": {},
   "source": [
    "## Install the Boto3 library and initialize clients for S3 and SSM"
   ]
  },
  {
   "cell_type": "code",
   "execution_count": null,
   "metadata": {
    "tags": []
   },
   "outputs": [],
   "source": [
    "%pip install --quiet boto3"
   ]
  },
  {
   "cell_type": "code",
   "execution_count": null,
   "metadata": {},
   "outputs": [],
   "source": [
    "import boto3\n",
    "s3_client = boto3.client('s3')\n",
    "ssm_client = boto3.client('ssm')"
   ]
  },
  {
   "cell_type": "markdown",
   "metadata": {},
   "source": [
    "## Create helper functions\n",
    "- read_from_parameter_store(name)\n",
    "- write_to_s3(bucket, key, content)"
   ]
  },
  {
   "cell_type": "code",
   "execution_count": null,
   "metadata": {
    "tags": []
   },
   "outputs": [],
   "source": [
    "# Read value from Parameter Store\n",
    "def read_from_parameter_store(name):\n",
    "    response = ssm_client.get_parameter(Name=name, WithDecryption=True)\n",
    "    return response['Parameter']['Value']\n",
    "\n",
    "# Write data to the S3 bucket\n",
    "def write_to_s3(bucket, key, body):\n",
    "    s3_client.put_object(Bucket=bucket, Key=key, Body=body)\n",
    "    print(f\"\\tSuccessfully wrote data to s3://{bucket}/{key}\")\n"
   ]
  },
  {
   "cell_type": "markdown",
   "metadata": {},
   "source": [
    "## Read from SSM ParameterStore "
   ]
  },
  {
   "cell_type": "code",
   "execution_count": null,
   "metadata": {
    "tags": []
   },
   "outputs": [],
   "source": [
    "# Constructed Parameter Names\n",
    "s3_bucket_name_parameter = f\"/{NotebookInstanceName}/S3Bucket\"\n",
    "\n",
    "# Get the S3 bucket name from Parameter Store\n",
    "bucket_name = read_from_parameter_store(s3_bucket_name_parameter)\n",
    "print(f\"\\tS3 Bucket Name from ParameterStore: {bucket_name}\")"
   ]
  },
  {
   "cell_type": "markdown",
   "metadata": {},
   "source": [
    "## Do something really cool in the following cell..."
   ]
  },
  {
   "cell_type": "code",
   "execution_count": null,
   "metadata": {
    "tags": []
   },
   "outputs": [],
   "source": [
    "print(\"Hello, World!\")"
   ]
  },
  {
   "cell_type": "markdown",
   "metadata": {},
   "source": [
    "## Generate data..."
   ]
  },
  {
   "cell_type": "code",
   "execution_count": null,
   "metadata": {
    "tags": []
   },
   "outputs": [],
   "source": [
    "import os\n",
    "\n",
    "data_directory = \"./data\"\n",
    "\n",
    "os.makedirs(data_directory, exist_ok=True)\n",
    "\n",
    "for i in range(0, 10):\n",
    "    file_name = os.path.join(data_directory, f\"data-{i}.html\")\n",
    "    with open(file_name, 'w') as file:\n",
    "        file.write(f\"sample data for file {i}\")\n",
    "        print(f\"\\tWrote data {i} to {file_name}\")"
   ]
  },
  {
   "cell_type": "markdown",
   "metadata": {},
   "source": [
    "## Upload data to S3 and create `index.html`"
   ]
  },
  {
   "cell_type": "code",
   "execution_count": null,
   "metadata": {
    "tags": []
   },
   "outputs": [],
   "source": [
    "import fnmatch\n",
    "import subprocess\n",
    "\n",
    "website = f\"http://{bucket_name}.s3-website-{region}.amazonaws.com\"\n",
    "\n",
    "# Use the fnmatch module to find all files in the current directory that end in \".html\"\n",
    "file_list = []\n",
    "for root, dirnames, filenames in os.walk(\".\"):\n",
    "    for filename in fnmatch.filter(filenames, \"*.html\"):\n",
    "        file_list.append(os.path.join(root, filename))\n",
    "\n",
    "# Sort the file list alphabetically\n",
    "file_list.sort()\n",
    "\n",
    "# Create the HTML file and write the header\n",
    "with open(os.path.join(\".\", \"index.html\"), \"w\") as f:\n",
    "    f.write(\n",
    "        \"\"\"<html>\n",
    "        <head>\n",
    "            <title>Praxis 2023 HTML Output</title>\n",
    "            <style>\n",
    "                table {\n",
    "                    border-collapse: collapse;\n",
    "                    width: 100%;\n",
    "                }\n",
    "                th, td {\n",
    "                    text-align: left;\n",
    "                    padding: 8px;\n",
    "                }\n",
    "                th {\n",
    "                    background-color: #007bff;\n",
    "                    color: #fff;\n",
    "                    font-weight: bold;\n",
    "                }\n",
    "                tr:nth-child(even) {\n",
    "                    background-color: #f2f2f2;\n",
    "                }\n",
    "                tr:hover {\n",
    "                    background-color: #ddd;\n",
    "                }\n",
    "            </style>\n",
    "        </head>\n",
    "        <body>\n",
    "            <table>\n",
    "                <tr><th>Name</th><th>Size</th></tr>\\n\n",
    "    \"\"\"\n",
    "    )\n",
    "\n",
    "    # Loop through each file and add a row to the table\n",
    "    for file_name in file_list:\n",
    "        if file_name in [\"./index.html\"]:\n",
    "            continue\n",
    "\n",
    "        file_size = os.path.getsize(file_name)\n",
    "        f.write(\n",
    "            f'<tr><td><a href=\"{website}/{file_name}\" target=\"_blank\" rel=\"noopener noreferrer\">{file_name}</a></td><td>{int(file_size / 1048576)} MB</td></tr>\\n'\n",
    "        )\n",
    "\n",
    "    # Write the footer and close the file\n",
    "    f.write(\"</table></body></html>\")\n",
    "    f.close()\n",
    "\n",
    "command = [\n",
    "    \"aws\",\n",
    "    \"s3\",\n",
    "    \"sync\",\n",
    "    \".\",\n",
    "    f\"s3://{bucket_name}\",\n",
    "    \"--exclude\",\n",
    "    \"*\",\n",
    "    \"--include\",\n",
    "    \"*.html\",\n",
    "    \"--no-progress\",\n",
    "]\n",
    "\n",
    "# Run the command and wait for it to complete\n",
    "output = subprocess.run(command, capture_output=True, text=True)\n",
    "\n",
    "# Print the output\n",
    "print(output.stdout)\n",
    "print(\"fin\")"
   ]
  },
  {
   "cell_type": "markdown",
   "metadata": {
    "tags": []
   },
   "source": [
    "## Read the bucket contents"
   ]
  },
  {
   "cell_type": "code",
   "execution_count": null,
   "metadata": {
    "tags": []
   },
   "outputs": [],
   "source": [
    "objects = s3_client.list_objects_v2(Bucket=bucket_name)\n",
    "\n",
    "print(f\"Contents of bucket {bucket_name}:\")\n",
    "for obj in objects['Contents']:\n",
    "    print(f\"\\t{obj['Key']}\")"
   ]
  },
  {
   "cell_type": "code",
   "execution_count": null,
   "metadata": {
    "tags": []
   },
   "outputs": [],
   "source": [
    "from IPython.display import display, Markdown\n",
    "\n",
    "markdown_text = f\"\"\"\n",
    "## Conclusion\n",
    "Use the following link to view the data in the S3 bucket's website:\n",
    "\n",
    "- {website}\n",
    "\"\"\"\n",
    "\n",
    "display(Markdown(markdown_text))\n"
   ]
  }
 ],
 "metadata": {
  "colab": {
   "authorship_tag": "ABX9TyPtZFtImanTt3no3VZVCx1B",
   "provenance": []
  },
  "kernelspec": {
   "display_name": "conda_python3",
   "language": "python",
   "name": "conda_python3"
  },
  "language_info": {
   "codemirror_mode": {
    "name": "ipython",
    "version": 3
   },
   "file_extension": ".py",
   "mimetype": "text/x-python",
   "name": "python",
   "nbconvert_exporter": "python",
   "pygments_lexer": "ipython3",
   "version": "3.10.13"
  }
 },
 "nbformat": 4,
 "nbformat_minor": 4
}
