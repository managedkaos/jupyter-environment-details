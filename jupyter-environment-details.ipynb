{
  "nbformat": 4,
  "nbformat_minor": 0,
  "metadata": {
    "colab": {
      "provenance": [],
      "authorship_tag": "ABX9TyOFfFRNnueBNbBZKjS84AAJ"
    },
    "kernelspec": {
      "name": "python3",
      "display_name": "Python 3"
    },
    "language_info": {
      "name": "python"
    }
  },
  "cells": [
    {
      "cell_type": "code",
      "execution_count": 1,
      "metadata": {
        "colab": {
          "base_uri": "https://localhost:8080/",
          "height": 287
        },
        "id": "2AuGt6WCWTLW",
        "outputId": "b2857c55-a594-4cc1-e268-196738edc06a"
      },
      "outputs": [
        {
          "output_type": "stream",
          "name": "stdout",
          "text": [
            "Collecting psutil==5.9\n",
            "  Downloading psutil-5.9.0-cp310-cp310-manylinux_2_12_x86_64.manylinux2010_x86_64.manylinux_2_17_x86_64.manylinux2014_x86_64.whl (281 kB)\n",
            "\u001b[?25l     \u001b[90m━━━━━━━━━━━━━━━━━━━━━━━━━━━━━━━━━━━━━━━━\u001b[0m \u001b[32m0.0/281.4 kB\u001b[0m \u001b[31m?\u001b[0m eta \u001b[36m-:--:--\u001b[0m\r\u001b[2K     \u001b[91m━━━━━━━━━━━━━━━━━━━━━━━━━━━━━━━━━\u001b[0m\u001b[90m╺\u001b[0m\u001b[90m━━━━━━\u001b[0m \u001b[32m235.5/281.4 kB\u001b[0m \u001b[31m6.7 MB/s\u001b[0m eta \u001b[36m0:00:01\u001b[0m\r\u001b[2K     \u001b[90m━━━━━━━━━━━━━━━━━━━━━━━━━━━━━━━━━━━━━━━━\u001b[0m \u001b[32m281.4/281.4 kB\u001b[0m \u001b[31m5.9 MB/s\u001b[0m eta \u001b[36m0:00:00\u001b[0m\n",
            "\u001b[?25hRequirement already satisfied: py-cpuinfo==9.0 in /usr/local/lib/python3.10/dist-packages (9.0.0)\n",
            "Installing collected packages: psutil\n",
            "  Attempting uninstall: psutil\n",
            "    Found existing installation: psutil 5.9.4\n",
            "    Uninstalling psutil-5.9.4:\n",
            "      Successfully uninstalled psutil-5.9.4\n",
            "Successfully installed psutil-5.9.0\n"
          ]
        },
        {
          "output_type": "display_data",
          "data": {
            "application/vnd.colab-display-data+json": {
              "pip_warning": {
                "packages": [
                  "psutil"
                ]
              },
              "id": "77eb1e8a662247e49b0a6cbc5d341cdb"
            }
          },
          "metadata": {}
        }
      ],
      "source": [
        "%pip install psutil==5.9 py-cpuinfo==9.0"
      ]
    },
    {
      "cell_type": "code",
      "source": [
        "import psutil\n",
        "import platform\n",
        "from datetime import datetime\n",
        "import cpuinfo\n",
        "import socket\n",
        "import uuid\n",
        "import re\n",
        "\n",
        "\n",
        "def get_size(bytes, suffix=\"B\"):\n",
        "    \"\"\"\n",
        "    Scale bytes to its proper format\n",
        "    e.g:\n",
        "        1253656 => '1.20MB'\n",
        "        1253656678 => '1.17GB'\n",
        "    \"\"\"\n",
        "    factor = 1024\n",
        "    for unit in [\"\", \"K\", \"M\", \"G\", \"T\", \"P\"]:\n",
        "        if bytes < factor:\n",
        "            return f\"{bytes:.2f}{unit}{suffix}\"\n",
        "        bytes /= factor\n",
        "\n",
        "def System_information():\n",
        "    print(\"=\"*40, \"System Information\", \"=\"*40)\n",
        "    uname = platform.uname()\n",
        "    print(f\"System: {uname.system}\")\n",
        "    print(f\"Node Name: {uname.node}\")\n",
        "    print(f\"Release: {uname.release}\")\n",
        "    print(f\"Version: {uname.version}\")\n",
        "    print(f\"Machine: {uname.machine}\")\n",
        "    print(f\"Processor: {uname.processor}\")\n",
        "    print(f\"Processor: {cpuinfo.get_cpu_info()['brand_raw']}\")\n",
        "\n",
        "\n",
        "    # print CPU information\n",
        "    print(\"=\"*40, \"CPU Info\", \"=\"*40)\n",
        "\n",
        "    # number of cores\n",
        "    print(\"Physical cores:\", psutil.cpu_count(logical=False))\n",
        "\n",
        "\n",
        "    # Memory Information\n",
        "    print(\"=\"*40, \"Memory Information\", \"=\"*40)\n",
        "\n",
        "    # get the memory details\n",
        "    svmem = psutil.virtual_memory()\n",
        "    print(f\"Total: {get_size(svmem.total)}\")\n",
        "\n",
        "    # Disk Information\n",
        "    print(\"=\"*40, \"Disk Information\", \"=\"*40)\n",
        "    print(\"Partitions and Usage:\")\n",
        "\n",
        "    # get all disk partitions\n",
        "    partitions = psutil.disk_partitions()\n",
        "    for partition in partitions:\n",
        "        if partition.mountpoint in [\"/\", \"/boot\"]:\n",
        "            print(f\"=== Device: {partition.device} ===\")\n",
        "            print(f\"  Mountpoint: {partition.mountpoint}\")\n",
        "            print(f\"  File system type: {partition.fstype}\")\n",
        "            try:\n",
        "                partition_usage = psutil.disk_usage(partition.mountpoint)\n",
        "            except PermissionError:\n",
        "                # this can be caught due to the disk that\n",
        "                # isn't ready\n",
        "                continue\n",
        "            print(f\"  Total Size: {get_size(partition_usage.total)}\")\n",
        "\n",
        "if __name__ == \"__main__\":\n",
        "    print(datetime.now().strftime(\"%y-%m-%d-%H-%M\"))\n",
        "    System_information()\n"
      ],
      "metadata": {
        "colab": {
          "base_uri": "https://localhost:8080/"
        },
        "id": "wNiXkifpWWR-",
        "outputId": "38283eaf-35ef-4f5e-fdd2-982c85795e74"
      },
      "execution_count": 2,
      "outputs": [
        {
          "output_type": "stream",
          "name": "stdout",
          "text": [
            "24-03-12-01-33\n",
            "======================================== System Information ========================================\n",
            "System: Linux\n",
            "Node Name: b401f8c387a5\n",
            "Release: 6.1.58+\n",
            "Version: #1 SMP PREEMPT_DYNAMIC Sat Nov 18 15:31:17 UTC 2023\n",
            "Machine: x86_64\n",
            "Processor: x86_64\n",
            "Processor: Intel(R) Xeon(R) CPU @ 2.20GHz\n",
            "======================================== CPU Info ========================================\n",
            "Physical cores: 1\n",
            "======================================== Memory Information ========================================\n",
            "Total: 12.67GB\n",
            "======================================== Disk Information ========================================\n",
            "Partitions and Usage:\n"
          ]
        }
      ]
    },
    {
      "cell_type": "code",
      "source": [],
      "metadata": {
        "id": "gdErLVx8Wjvg"
      },
      "execution_count": 2,
      "outputs": []
    }
  ]
}