{
  "nbformat": 4,
  "nbformat_minor": 0,
  "metadata": {
    "colab": {
      "provenance": [],
      "authorship_tag": "ABX9TyNRndFJj2zfVVWWYZKh8W3K"
    },
    "kernelspec": {
      "name": "python3",
      "display_name": "Python 3"
    },
    "language_info": {
      "name": "python"
    }
  },
  "cells": [
    {
      "cell_type": "code",
      "execution_count": null,
      "metadata": {
        "id": "2AuGt6WCWTLW"
      },
      "outputs": [],
      "source": [
        "%pip install psutil==5.9 py-cpuinfo==9.0"
      ]
    },
    {
      "cell_type": "code",
      "source": [
        "import psutil\n",
        "import platform\n",
        "from datetime import datetime\n",
        "import cpuinfo\n",
        "import socket\n",
        "import uuid\n",
        "import re\n",
        "\n",
        "\n",
        "def get_size(bytes, suffix=\"B\"):\n",
        "    \"\"\"\n",
        "    Scale bytes to its proper format\n",
        "    e.g:\n",
        "        1253656 => '1.20MB'\n",
        "        1253656678 => '1.17GB'\n",
        "    \"\"\"\n",
        "    factor = 1024\n",
        "    for unit in [\"\", \"K\", \"M\", \"G\", \"T\", \"P\"]:\n",
        "        if bytes < factor:\n",
        "            return f\"{bytes:.2f}{unit}{suffix}\"\n",
        "        bytes /= factor\n",
        "\n",
        "def System_information():\n",
        "    print(\"=\"*40, \"System Information\", \"=\"*40)\n",
        "    uname = platform.uname()\n",
        "    print(f\"System: {uname.system}\")\n",
        "    print(f\"Node Name: {uname.node}\")\n",
        "    print(f\"Release: {uname.release}\")\n",
        "    print(f\"Version: {uname.version}\")\n",
        "    print(f\"Machine: {uname.machine}\")\n",
        "    print(f\"Processor: {uname.processor}\")\n",
        "    print(f\"Processor: {cpuinfo.get_cpu_info()['brand_raw']}\")\n",
        "\n",
        "\n",
        "    # print CPU information\n",
        "    print(\"=\"*40, \"CPU Info\", \"=\"*40)\n",
        "\n",
        "    # number of cores\n",
        "    print(\"Physical cores:\", psutil.cpu_count(logical=False))\n",
        "\n",
        "\n",
        "    # Memory Information\n",
        "    print(\"=\"*40, \"Memory Information\", \"=\"*40)\n",
        "\n",
        "    # get the memory details\n",
        "    svmem = psutil.virtual_memory()\n",
        "    print(f\"Total: {get_size(svmem.total)}\")\n",
        "\n",
        "    # Disk Information\n",
        "    print(\"=\"*40, \"Disk Information\", \"=\"*40)\n",
        "    print(\"Partitions and Usage:\")\n",
        "\n",
        "    # get all disk partitions\n",
        "    partitions = psutil.disk_partitions()\n",
        "    for partition in partitions:\n",
        "        if partition.mountpoint in [\"/\", \"/boot\"]:\n",
        "            print(f\"=== Device: {partition.device} ===\")\n",
        "            print(f\"  Mountpoint: {partition.mountpoint}\")\n",
        "            print(f\"  File system type: {partition.fstype}\")\n",
        "            try:\n",
        "                partition_usage = psutil.disk_usage(partition.mountpoint)\n",
        "            except PermissionError:\n",
        "                # this can be caught due to the disk that\n",
        "                # isn't ready\n",
        "                continue\n",
        "            print(f\"  Total Size: {get_size(partition_usage.total)}\")\n",
        "\n",
        "if __name__ == \"__main__\":\n",
        "    print(datetime.now().strftime(\"%y-%m-%d-%H-%M\"))\n",
        "    System_information()\n"
      ],
      "metadata": {
        "id": "wNiXkifpWWR-"
      },
      "execution_count": null,
      "outputs": []
    }
  ]
}